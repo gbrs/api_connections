{
 "cells": [
  {
   "cell_type": "code",
   "execution_count": 1,
   "metadata": {},
   "outputs": [],
   "source": [
    "import numpy as np\n",
    "import pandas as pd\n",
    "import matplotlib.pyplot as plt\n",
    "import seaborn as sns\n",
    "import requests\n",
    "import json\n",
    "import time"
   ]
  },
  {
   "cell_type": "code",
   "execution_count": 2,
   "metadata": {},
   "outputs": [],
   "source": [
    "sns.set()\n",
    "pd.set_option('display.max_columns', None)"
   ]
  },
  {
   "cell_type": "code",
   "execution_count": 8,
   "metadata": {},
   "outputs": [],
   "source": [
    "# !pip install tapi-yandex-metrika"
   ]
  },
  {
   "cell_type": "code",
   "execution_count": null,
   "metadata": {},
   "outputs": [],
   "source": [
    "# !pip install --upgrade tapi-yandex-metrika==2020.10.20"
   ]
  },
  {
   "cell_type": "code",
   "execution_count": 3,
   "metadata": {},
   "outputs": [],
   "source": [
    "from tapi_yandex_metrika import YandexMetrikaStats"
   ]
  },
  {
   "cell_type": "code",
   "execution_count": null,
   "metadata": {},
   "outputs": [],
   "source": []
  },
  {
   "cell_type": "markdown",
   "metadata": {},
   "source": [
    "[Создание приложения](https://oauth.yandex.ru/client/new/)"
   ]
  },
  {
   "cell_type": "markdown",
   "metadata": {},
   "source": [
    "Отладочный токен:\n",
    "https://oauth.yandex.ru/authorize?response_type=token&client_id=e08c5606a4764d09b0bff31f36281c9a"
   ]
  },
  {
   "cell_type": "code",
   "execution_count": 4,
   "metadata": {},
   "outputs": [],
   "source": [
    "from id_data import yandex"
   ]
  },
  {
   "cell_type": "code",
   "execution_count": 5,
   "metadata": {},
   "outputs": [],
   "source": [
    "ACCESS_TOKEN = yandex['ACCESS_TOKEN']\n",
    "METRIC_IDS = yandex['METRIC_IDS']"
   ]
  },
  {
   "cell_type": "code",
   "execution_count": 6,
   "metadata": {
    "tags": []
   },
   "outputs": [],
   "source": [
    "api = YandexMetrikaStats(\n",
    "    access_token=ACCESS_TOKEN,\n",
    ")"
   ]
  },
  {
   "cell_type": "markdown",
   "metadata": {},
   "source": [
    "Количество уникальных пользователей и визитов по дням за последние 30 дней"
   ]
  },
  {
   "cell_type": "code",
   "execution_count": 7,
   "metadata": {},
   "outputs": [],
   "source": [
    "params = {\n",
    "    'ids': METRIC_IDS, # наш счетчик\n",
    "    'date1': '30daysAgo',\n",
    "    'date2': 'yesterday',\n",
    "    'sort': 'ym:s:date',\n",
    "    'metrics': 'ym:s:users, ym:s:visits', # значения, которые получим\n",
    "    'dimensions': 'ym:s:date', # группировка\n",
    "    'accuracy': 'full',\n",
    "    'limit': 1000 # количество элементов на странице\n",
    "}"
   ]
  },
  {
   "cell_type": "code",
   "execution_count": 8,
   "metadata": {},
   "outputs": [
    {
     "data": {
      "text/plain": [
       "<TapiClient object\n",
       "{   'contains_sensitive_data': False,\n",
       "    'data': [   {   'dimensions': [{'name': '2025-05-08'}],\n",
       "                    'metrics': [31.0, 33.0]},\n",
       "                {   'dimensions': [{'name': '2025-05-09'}],\n",
       "                    'metrics': [32.0, 34.0]},\n",
       "                {   'dimensions': [{'name': '2025-05-10'}],\n",
       "                    'metrics': [42.0, 42.0]},\n",
       "                {   'dimensions': [{'name': '2025-05-11'}],\n",
       "                    'metrics': [34.0, 35.0]},\n",
       "                {   'dimensions': [{'name': '2025-05-12'}],\n",
       "                    'metrics': [103.0, 110.0]},\n",
       "                {   'dimensions': [{'name': '2025-05-13'}],\n",
       "                    'metrics': [108.0, 113.0]},\n",
       "                {   'dimensions': [{'name': '2025-05-14'}],\n",
       "                    'metrics': [105.0, 107.0]},\n",
       "                {   'dimensions': [{'name': '2025-05-15'}],\n",
       "                    'metrics': [79.0, 85.0]},\n",
       "                {   'dimensions': [{'name': '2025-05-16'}],\n",
       "                    'metrics': [78.0, 82.0]},\n",
       "                {   'dimensions': [{'name': '2025-05-17'}],\n",
       "                    'metrics': [35.0, 37.0]},\n",
       "                {   'dimensions': [{'name': '2025-05-18'}],\n",
       "                    'metrics': [44.0, 47.0]},\n",
       "                {   'dimensions': [{'name': '2025-05-19'}],\n",
       "                    'metrics': [94.0, 102.0]},\n",
       "                {   'dimensions': [{'name': '2025-05-20'}],\n",
       "                    'metrics': [86.0, 94.0]},\n",
       "                {   'dimensions': [{'name': '2025-05-21'}],\n",
       "                    'metrics': [90.0, 100.0]},\n",
       "                {   'dimensions': [{'name': '2025-05-22'}],\n",
       "                    'metrics': [91.0, 96.0]},\n",
       "                {   'dimensions': [{'name': '2025-05-23'}],\n",
       "                    'metrics': [81.0, 89.0]},\n",
       "                {   'dimensions': [{'name': '2025-05-24'}],\n",
       "                    'metrics': [30.0, 33.0]},\n",
       "                {   'dimensions': [{'name': '2025-05-25'}],\n",
       "                    'metrics': [38.0, 39.0]},\n",
       "                {   'dimensions': [{'name': '2025-05-26'}],\n",
       "                    'metrics': [112.0, 121.0]},\n",
       "                {   'dimensions': [{'name': '2025-05-27'}],\n",
       "                    'metrics': [83.0, 87.0]},\n",
       "                {   'dimensions': [{'name': '2025-05-28'}],\n",
       "                    'metrics': [109.0, 117.0]},\n",
       "                {   'dimensions': [{'name': '2025-05-29'}],\n",
       "                    'metrics': [97.0, 105.0]},\n",
       "                {   'dimensions': [{'name': '2025-05-30'}],\n",
       "                    'metrics': [89.0, 98.0]},\n",
       "                {   'dimensions': [{'name': '2025-05-31'}],\n",
       "                    'metrics': [20.0, 20.0]},\n",
       "                {   'dimensions': [{'name': '2025-06-01'}],\n",
       "                    'metrics': [26.0, 29.0]},\n",
       "                {   'dimensions': [{'name': '2025-06-02'}],\n",
       "                    'metrics': [99.0, 108.0]},\n",
       "                {   'dimensions': [{'name': '2025-06-03'}],\n",
       "                    'metrics': [99.0, 106.0]},\n",
       "                {   'dimensions': [{'name': '2025-06-04'}],\n",
       "                    'metrics': [99.0, 105.0]},\n",
       "                {   'dimensions': [{'name': '2025-06-05'}],\n",
       "                    'metrics': [85.0, 92.0]},\n",
       "                {   'dimensions': [{'name': '2025-06-06'}],\n",
       "                    'metrics': [85.0, 93.0]}],\n",
       "    'data_lag': 0,\n",
       "    'max': [112.0, 121.0],\n",
       "    'min': [20.0, 20.0],\n",
       "    'query': {   'adfox_event_id': '0',\n",
       "                 'attr_name': '',\n",
       "                 'attribution': 'LastSign',\n",
       "                 'auto_group_size': '1',\n",
       "                 'benchmarks_attribution': 'Automatic',\n",
       "                 'benchmarks_quantile': '50',\n",
       "                 'benchmarks_version': '1748217600000',\n",
       "                 'currency': 'RUB',\n",
       "                 'date1': '2025-05-08',\n",
       "                 'date2': '2025-06-06',\n",
       "                 'dimensions': ['ym:s:date'],\n",
       "                 'exp_bucket_size': '100',\n",
       "                 'funnel_pattern': '',\n",
       "                 'funnel_window': '',\n",
       "                 'group': 'Week',\n",
       "                 'ids': [24251461],\n",
       "                 'limit': 1000,\n",
       "                 'metrics': ['ym:s:users', 'ym:s:visits'],\n",
       "                 'offline_window': '21',\n",
       "                 'offset': 1,\n",
       "                 'quantile': '50',\n",
       "                 'sort': ['ym:s:date']},\n",
       "    'sample_share': 1.0,\n",
       "    'sample_size': 2360,\n",
       "    'sample_space': 2360,\n",
       "    'sampled': False,\n",
       "    'total_rows': 30,\n",
       "    'total_rows_rounded': False,\n",
       "    'totals': [1931.0, 2359.0]}>"
      ]
     },
     "execution_count": 8,
     "metadata": {},
     "output_type": "execute_result"
    }
   ],
   "source": [
    "raw_result = api.stats().get(params=params)\n",
    "raw_result"
   ]
  },
  {
   "cell_type": "code",
   "execution_count": 9,
   "metadata": {},
   "outputs": [],
   "source": [
    "result = raw_result['data']"
   ]
  },
  {
   "cell_type": "code",
   "execution_count": 10,
   "metadata": {},
   "outputs": [],
   "source": [
    "dict_data = {}\n",
    "\n",
    "for i in range(len(result)):\n",
    "    dict_data[i] = {\n",
    "        'date': result[i]['dimensions'][0]['name'],\n",
    "        'users': result[i]['metrics'][0],\n",
    "        'visits': result[i]['metrics'][1]\n",
    "    }"
   ]
  },
  {
   "cell_type": "code",
   "execution_count": 11,
   "metadata": {},
   "outputs": [],
   "source": [
    "attendance = pd.DataFrame(dict_data).T"
   ]
  },
  {
   "cell_type": "code",
   "execution_count": 12,
   "metadata": {},
   "outputs": [
    {
     "data": {
      "text/html": [
       "<div>\n",
       "<style scoped>\n",
       "    .dataframe tbody tr th:only-of-type {\n",
       "        vertical-align: middle;\n",
       "    }\n",
       "\n",
       "    .dataframe tbody tr th {\n",
       "        vertical-align: top;\n",
       "    }\n",
       "\n",
       "    .dataframe thead th {\n",
       "        text-align: right;\n",
       "    }\n",
       "</style>\n",
       "<table border=\"1\" class=\"dataframe\">\n",
       "  <thead>\n",
       "    <tr style=\"text-align: right;\">\n",
       "      <th></th>\n",
       "      <th>date</th>\n",
       "      <th>users</th>\n",
       "      <th>visits</th>\n",
       "    </tr>\n",
       "  </thead>\n",
       "  <tbody>\n",
       "    <tr>\n",
       "      <th>0</th>\n",
       "      <td>2025-05-08</td>\n",
       "      <td>31.0</td>\n",
       "      <td>33.0</td>\n",
       "    </tr>\n",
       "    <tr>\n",
       "      <th>1</th>\n",
       "      <td>2025-05-09</td>\n",
       "      <td>32.0</td>\n",
       "      <td>34.0</td>\n",
       "    </tr>\n",
       "    <tr>\n",
       "      <th>2</th>\n",
       "      <td>2025-05-10</td>\n",
       "      <td>42.0</td>\n",
       "      <td>42.0</td>\n",
       "    </tr>\n",
       "    <tr>\n",
       "      <th>3</th>\n",
       "      <td>2025-05-11</td>\n",
       "      <td>34.0</td>\n",
       "      <td>35.0</td>\n",
       "    </tr>\n",
       "    <tr>\n",
       "      <th>4</th>\n",
       "      <td>2025-05-12</td>\n",
       "      <td>103.0</td>\n",
       "      <td>110.0</td>\n",
       "    </tr>\n",
       "    <tr>\n",
       "      <th>5</th>\n",
       "      <td>2025-05-13</td>\n",
       "      <td>108.0</td>\n",
       "      <td>113.0</td>\n",
       "    </tr>\n",
       "    <tr>\n",
       "      <th>6</th>\n",
       "      <td>2025-05-14</td>\n",
       "      <td>105.0</td>\n",
       "      <td>107.0</td>\n",
       "    </tr>\n",
       "    <tr>\n",
       "      <th>7</th>\n",
       "      <td>2025-05-15</td>\n",
       "      <td>79.0</td>\n",
       "      <td>85.0</td>\n",
       "    </tr>\n",
       "    <tr>\n",
       "      <th>8</th>\n",
       "      <td>2025-05-16</td>\n",
       "      <td>78.0</td>\n",
       "      <td>82.0</td>\n",
       "    </tr>\n",
       "    <tr>\n",
       "      <th>9</th>\n",
       "      <td>2025-05-17</td>\n",
       "      <td>35.0</td>\n",
       "      <td>37.0</td>\n",
       "    </tr>\n",
       "    <tr>\n",
       "      <th>10</th>\n",
       "      <td>2025-05-18</td>\n",
       "      <td>44.0</td>\n",
       "      <td>47.0</td>\n",
       "    </tr>\n",
       "    <tr>\n",
       "      <th>11</th>\n",
       "      <td>2025-05-19</td>\n",
       "      <td>94.0</td>\n",
       "      <td>102.0</td>\n",
       "    </tr>\n",
       "    <tr>\n",
       "      <th>12</th>\n",
       "      <td>2025-05-20</td>\n",
       "      <td>86.0</td>\n",
       "      <td>94.0</td>\n",
       "    </tr>\n",
       "    <tr>\n",
       "      <th>13</th>\n",
       "      <td>2025-05-21</td>\n",
       "      <td>90.0</td>\n",
       "      <td>100.0</td>\n",
       "    </tr>\n",
       "    <tr>\n",
       "      <th>14</th>\n",
       "      <td>2025-05-22</td>\n",
       "      <td>91.0</td>\n",
       "      <td>96.0</td>\n",
       "    </tr>\n",
       "    <tr>\n",
       "      <th>15</th>\n",
       "      <td>2025-05-23</td>\n",
       "      <td>81.0</td>\n",
       "      <td>89.0</td>\n",
       "    </tr>\n",
       "    <tr>\n",
       "      <th>16</th>\n",
       "      <td>2025-05-24</td>\n",
       "      <td>30.0</td>\n",
       "      <td>33.0</td>\n",
       "    </tr>\n",
       "    <tr>\n",
       "      <th>17</th>\n",
       "      <td>2025-05-25</td>\n",
       "      <td>38.0</td>\n",
       "      <td>39.0</td>\n",
       "    </tr>\n",
       "    <tr>\n",
       "      <th>18</th>\n",
       "      <td>2025-05-26</td>\n",
       "      <td>112.0</td>\n",
       "      <td>121.0</td>\n",
       "    </tr>\n",
       "    <tr>\n",
       "      <th>19</th>\n",
       "      <td>2025-05-27</td>\n",
       "      <td>83.0</td>\n",
       "      <td>87.0</td>\n",
       "    </tr>\n",
       "    <tr>\n",
       "      <th>20</th>\n",
       "      <td>2025-05-28</td>\n",
       "      <td>109.0</td>\n",
       "      <td>117.0</td>\n",
       "    </tr>\n",
       "    <tr>\n",
       "      <th>21</th>\n",
       "      <td>2025-05-29</td>\n",
       "      <td>97.0</td>\n",
       "      <td>105.0</td>\n",
       "    </tr>\n",
       "    <tr>\n",
       "      <th>22</th>\n",
       "      <td>2025-05-30</td>\n",
       "      <td>89.0</td>\n",
       "      <td>98.0</td>\n",
       "    </tr>\n",
       "    <tr>\n",
       "      <th>23</th>\n",
       "      <td>2025-05-31</td>\n",
       "      <td>20.0</td>\n",
       "      <td>20.0</td>\n",
       "    </tr>\n",
       "    <tr>\n",
       "      <th>24</th>\n",
       "      <td>2025-06-01</td>\n",
       "      <td>26.0</td>\n",
       "      <td>29.0</td>\n",
       "    </tr>\n",
       "    <tr>\n",
       "      <th>25</th>\n",
       "      <td>2025-06-02</td>\n",
       "      <td>99.0</td>\n",
       "      <td>108.0</td>\n",
       "    </tr>\n",
       "    <tr>\n",
       "      <th>26</th>\n",
       "      <td>2025-06-03</td>\n",
       "      <td>99.0</td>\n",
       "      <td>106.0</td>\n",
       "    </tr>\n",
       "    <tr>\n",
       "      <th>27</th>\n",
       "      <td>2025-06-04</td>\n",
       "      <td>99.0</td>\n",
       "      <td>105.0</td>\n",
       "    </tr>\n",
       "    <tr>\n",
       "      <th>28</th>\n",
       "      <td>2025-06-05</td>\n",
       "      <td>85.0</td>\n",
       "      <td>92.0</td>\n",
       "    </tr>\n",
       "    <tr>\n",
       "      <th>29</th>\n",
       "      <td>2025-06-06</td>\n",
       "      <td>85.0</td>\n",
       "      <td>93.0</td>\n",
       "    </tr>\n",
       "  </tbody>\n",
       "</table>\n",
       "</div>"
      ],
      "text/plain": [
       "          date  users visits\n",
       "0   2025-05-08   31.0   33.0\n",
       "1   2025-05-09   32.0   34.0\n",
       "2   2025-05-10   42.0   42.0\n",
       "3   2025-05-11   34.0   35.0\n",
       "4   2025-05-12  103.0  110.0\n",
       "5   2025-05-13  108.0  113.0\n",
       "6   2025-05-14  105.0  107.0\n",
       "7   2025-05-15   79.0   85.0\n",
       "8   2025-05-16   78.0   82.0\n",
       "9   2025-05-17   35.0   37.0\n",
       "10  2025-05-18   44.0   47.0\n",
       "11  2025-05-19   94.0  102.0\n",
       "12  2025-05-20   86.0   94.0\n",
       "13  2025-05-21   90.0  100.0\n",
       "14  2025-05-22   91.0   96.0\n",
       "15  2025-05-23   81.0   89.0\n",
       "16  2025-05-24   30.0   33.0\n",
       "17  2025-05-25   38.0   39.0\n",
       "18  2025-05-26  112.0  121.0\n",
       "19  2025-05-27   83.0   87.0\n",
       "20  2025-05-28  109.0  117.0\n",
       "21  2025-05-29   97.0  105.0\n",
       "22  2025-05-30   89.0   98.0\n",
       "23  2025-05-31   20.0   20.0\n",
       "24  2025-06-01   26.0   29.0\n",
       "25  2025-06-02   99.0  108.0\n",
       "26  2025-06-03   99.0  106.0\n",
       "27  2025-06-04   99.0  105.0\n",
       "28  2025-06-05   85.0   92.0\n",
       "29  2025-06-06   85.0   93.0"
      ]
     },
     "execution_count": 12,
     "metadata": {},
     "output_type": "execute_result"
    }
   ],
   "source": [
    "attendance"
   ]
  },
  {
   "cell_type": "code",
   "execution_count": 13,
   "metadata": {},
   "outputs": [
    {
     "data": {
      "image/png": "[encoded data removed]",
      "text/plain": [
       "<Figure size 640x480 with 1 Axes>"
      ]
     },
     "metadata": {},
     "output_type": "display_data"
    }
   ],
   "source": [
    "sns.barplot(data=attendance, x='date', y='visits')\n",
    "plt.xticks(rotation=90);"
   ]
  },
  {
   "cell_type": "code",
   "execution_count": 14,
   "metadata": {},
   "outputs": [
    {
     "data": {
      "image/png": "[encoded data removed]",
      "text/plain": [
       "<Figure size 640x480 with 1 Axes>"
      ]
     },
     "metadata": {},
     "output_type": "display_data"
    }
   ],
   "source": [
    "attendance.plot.bar(x='date');"
   ]
  },
  {
   "cell_type": "code",
   "execution_count": null,
   "metadata": {},
   "outputs": [],
   "source": []
  }
 ],
 "metadata": {
  "kernelspec": {
   "display_name": "base",
   "language": "python",
   "name": "python3"
  },
  "language_info": {
   "codemirror_mode": {
    "name": "ipython",
    "version": 3
   },
   "file_extension": ".py",
   "mimetype": "text/x-python",
   "name": "python",
   "nbconvert_exporter": "python",
   "pygments_lexer": "ipython3",
   "version": "3.12.7"
  }
 },
 "nbformat": 4,
 "nbformat_minor": 4
}
