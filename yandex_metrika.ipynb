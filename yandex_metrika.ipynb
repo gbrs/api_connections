{
 "cells": [
  {
   "cell_type": "code",
   "execution_count": 9,
   "metadata": {},
   "outputs": [],
   "source": [
    "import numpy as np\n",
    "import pandas as pd\n",
    "import matplotlib.pyplot as plt\n",
    "import seaborn as sns\n",
    "import requests\n",
    "import json\n",
    "import time"
   ]
  },
  {
   "cell_type": "code",
   "execution_count": 10,
   "metadata": {},
   "outputs": [],
   "source": [
    "sns.set()\n",
    "pd.set_option('display.max_columns', None)"
   ]
  },
  {
   "cell_type": "code",
   "execution_count": null,
   "metadata": {},
   "outputs": [],
   "source": [
    "# !pip install tapi-yandex-metrika"
   ]
  },
  {
   "cell_type": "code",
   "execution_count": null,
   "metadata": {},
   "outputs": [],
   "source": [
    "# !pip install --upgrade tapi-yandex-metrika==2020.10.20"
   ]
  },
  {
   "cell_type": "code",
   "execution_count": 11,
   "metadata": {},
   "outputs": [],
   "source": [
    "from tapi_yandex_metrika import YandexMetrikaStats"
   ]
  },
  {
   "cell_type": "code",
   "execution_count": null,
   "metadata": {},
   "outputs": [],
   "source": []
  },
  {
   "cell_type": "markdown",
   "metadata": {},
   "source": [
    "[Создание приложения](https://oauth.yandex.ru/client/new/)"
   ]
  },
  {
   "cell_type": "markdown",
   "metadata": {},
   "source": [
    "Отладочный токен:\n",
    "https://oauth.yandex.ru/authorize?response_type=token&client_id=709c3844140047bd82237f4b38edd4ef"
   ]
  },
  {
   "cell_type": "code",
   "execution_count": 12,
   "metadata": {},
   "outputs": [],
   "source": [
    "ACCESS_TOKEN = 'y0_AgAAAAAOmXQqAAnECgAAAADhN1mgzjleZNSGRuacnUSZ-6mRIKs1bok'\n",
    "METRIC_IDS = '24251461'"
   ]
  },
  {
   "cell_type": "code",
   "execution_count": 16,
   "metadata": {
    "tags": []
   },
   "outputs": [],
   "source": [
    "api = YandexMetrikaStats(\n",
    "    authorization='OAuth a953489a3ad04025b24939841dfab1a2',\n",
    "    access_token=ACCESS_TOKEN,\n",
    "#     receive_all_data=True\n",
    ")"
   ]
  },
  {
   "cell_type": "markdown",
   "metadata": {},
   "source": [
    "Количество уникальных пользователей и визитов по дням за последние 30 дней"
   ]
  },
  {
   "cell_type": "code",
   "execution_count": 17,
   "metadata": {},
   "outputs": [],
   "source": [
    "params = {\n",
    "    'ids': METRIC_IDS, # наш счетчик\n",
    "    'date1': '30daysAgo',\n",
    "    'date2': 'yesterday',\n",
    "    'sort': 'ym:s:date',\n",
    "    'metrics': 'ym:s:users, ym:s:visits', # значения, которые получим\n",
    "    'dimensions': 'ym:s:date', # группировка\n",
    "    'accuracy': 'full',\n",
    "    'limit': 1000 # количество элементов на странице\n",
    "}"
   ]
  },
  {
   "cell_type": "code",
   "execution_count": 18,
   "metadata": {},
   "outputs": [
    {
     "data": {
      "text/plain": [
       "<TapiClient object\n",
       "{   'contains_sensitive_data': False,\n",
       "    'data': [   {   'dimensions': [{'name': '2023-03-19'}],\n",
       "                    'metrics': [43.0, 49.0]},\n",
       "                {   'dimensions': [{'name': '2023-03-20'}],\n",
       "                    'metrics': [111.0, 120.0]},\n",
       "                {   'dimensions': [{'name': '2023-03-21'}],\n",
       "                    'metrics': [110.0, 118.0]},\n",
       "                {   'dimensions': [{'name': '2023-03-22'}],\n",
       "                    'metrics': [143.0, 154.0]},\n",
       "                {   'dimensions': [{'name': '2023-03-23'}],\n",
       "                    'metrics': [116.0, 125.0]},\n",
       "                {   'dimensions': [{'name': '2023-03-24'}],\n",
       "                    'metrics': [89.0, 95.0]},\n",
       "                {   'dimensions': [{'name': '2023-03-25'}],\n",
       "                    'metrics': [45.0, 50.0]},\n",
       "                {   'dimensions': [{'name': '2023-03-26'}],\n",
       "                    'metrics': [42.0, 47.0]},\n",
       "                {   'dimensions': [{'name': '2023-03-27'}],\n",
       "                    'metrics': [127.0, 138.0]},\n",
       "                {   'dimensions': [{'name': '2023-03-28'}],\n",
       "                    'metrics': [109.0, 114.0]},\n",
       "                {   'dimensions': [{'name': '2023-03-29'}],\n",
       "                    'metrics': [125.0, 140.0]},\n",
       "                {   'dimensions': [{'name': '2023-03-30'}],\n",
       "                    'metrics': [127.0, 137.0]},\n",
       "                {   'dimensions': [{'name': '2023-03-31'}],\n",
       "                    'metrics': [97.0, 104.0]},\n",
       "                {   'dimensions': [{'name': '2023-04-01'}],\n",
       "                    'metrics': [46.0, 49.0]},\n",
       "                {   'dimensions': [{'name': '2023-04-02'}],\n",
       "                    'metrics': [34.0, 42.0]},\n",
       "                {   'dimensions': [{'name': '2023-04-03'}],\n",
       "                    'metrics': [100.0, 107.0]},\n",
       "                {   'dimensions': [{'name': '2023-04-04'}],\n",
       "                    'metrics': [126.0, 135.0]},\n",
       "                {   'dimensions': [{'name': '2023-04-05'}],\n",
       "                    'metrics': [120.0, 133.0]},\n",
       "                {   'dimensions': [{'name': '2023-04-06'}],\n",
       "                    'metrics': [129.0, 143.0]},\n",
       "                {   'dimensions': [{'name': '2023-04-07'}],\n",
       "                    'metrics': [108.0, 115.0]},\n",
       "                {   'dimensions': [{'name': '2023-04-08'}],\n",
       "                    'metrics': [47.0, 48.0]},\n",
       "                {   'dimensions': [{'name': '2023-04-09'}],\n",
       "                    'metrics': [37.0, 39.0]},\n",
       "                {   'dimensions': [{'name': '2023-04-10'}],\n",
       "                    'metrics': [90.0, 100.0]},\n",
       "                {   'dimensions': [{'name': '2023-04-11'}],\n",
       "                    'metrics': [121.0, 142.0]},\n",
       "                {   'dimensions': [{'name': '2023-04-12'}],\n",
       "                    'metrics': [111.0, 113.0]},\n",
       "                {   'dimensions': [{'name': '2023-04-13'}],\n",
       "                    'metrics': [105.0, 117.0]},\n",
       "                {   'dimensions': [{'name': '2023-04-14'}],\n",
       "                    'metrics': [94.0, 96.0]},\n",
       "                {   'dimensions': [{'name': '2023-04-15'}],\n",
       "                    'metrics': [47.0, 54.0]},\n",
       "                {   'dimensions': [{'name': '2023-04-16'}],\n",
       "                    'metrics': [56.0, 60.0]},\n",
       "                {   'dimensions': [{'name': '2023-04-17'}],\n",
       "                    'metrics': [112.0, 122.0]}],\n",
       "    'data_lag': 0,\n",
       "    'max': [143.0, 154.0],\n",
       "    'min': [34.0, 39.0],\n",
       "    'query': {   'adfox_event_id': '0',\n",
       "                 'attr_name': '',\n",
       "                 'attribution': 'LastSign',\n",
       "                 'auto_group_size': '1',\n",
       "                 'currency': 'RUB',\n",
       "                 'date1': '2023-03-19',\n",
       "                 'date2': '2023-04-17',\n",
       "                 'dimensions': ['ym:s:date'],\n",
       "                 'group': 'Week',\n",
       "                 'ids': [24251461],\n",
       "                 'limit': 1000,\n",
       "                 'metrics': ['ym:s:users', 'ym:s:visits'],\n",
       "                 'offline_window': '21',\n",
       "                 'offset': 1,\n",
       "                 'quantile': '50',\n",
       "                 'sort': ['ym:s:date']},\n",
       "    'sample_share': 1.0,\n",
       "    'sample_size': 3030,\n",
       "    'sample_space': 3030,\n",
       "    'sampled': False,\n",
       "    'total_rows': 30,\n",
       "    'total_rows_rounded': False,\n",
       "    'totals': [2482.0, 3006.0]}>"
      ]
     },
     "execution_count": 18,
     "metadata": {},
     "output_type": "execute_result"
    }
   ],
   "source": [
    "raw_result = api.stats().get(params=params)\n",
    "raw_result"
   ]
  },
  {
   "cell_type": "code",
   "execution_count": null,
   "metadata": {},
   "outputs": [],
   "source": []
  },
  {
   "cell_type": "code",
   "execution_count": null,
   "metadata": {},
   "outputs": [],
   "source": []
  }
 ],
 "metadata": {
  "kernelspec": {
   "display_name": "Python 3",
   "language": "python",
   "name": "python3"
  },
  "language_info": {
   "codemirror_mode": {
    "name": "ipython",
    "version": 3
   },
   "file_extension": ".py",
   "mimetype": "text/x-python",
   "name": "python",
   "nbconvert_exporter": "python",
   "pygments_lexer": "ipython3",
   "version": "3.8.8"
  }
 },
 "nbformat": 4,
 "nbformat_minor": 4
}
