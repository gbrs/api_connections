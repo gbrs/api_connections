{
 "cells": [
  {
   "cell_type": "code",
   "execution_count": 2,
   "metadata": {},
   "outputs": [],
   "source": [
    "import numpy as np\n",
    "import pandas as pd\n",
    "import matplotlib.pyplot as plt\n",
    "import seaborn as sns\n",
    "import requests\n",
    "import json\n",
    "import time"
   ]
  },
  {
   "cell_type": "code",
   "execution_count": 3,
   "metadata": {},
   "outputs": [],
   "source": [
    "sns.set()\n",
    "pd.set_option('display.max_columns', None)"
   ]
  },
  {
   "cell_type": "code",
   "execution_count": null,
   "metadata": {},
   "outputs": [],
   "source": [
    "# !pip install tapi-yandex-metrika"
   ]
  },
  {
   "cell_type": "code",
   "execution_count": null,
   "metadata": {},
   "outputs": [],
   "source": [
    "# !pip install --upgrade tapi-yandex-metrika==2020.10.20"
   ]
  },
  {
   "cell_type": "code",
   "execution_count": 4,
   "metadata": {},
   "outputs": [],
   "source": [
    "from tapi_yandex_metrika import YandexMetrikaStats"
   ]
  },
  {
   "cell_type": "code",
   "execution_count": null,
   "metadata": {},
   "outputs": [],
   "source": []
  },
  {
   "cell_type": "markdown",
   "metadata": {},
   "source": [
    "[Создание приложения](https://oauth.yandex.ru/client/new/)"
   ]
  },
  {
   "cell_type": "markdown",
   "metadata": {},
   "source": [
    "Отладочный токен:\n",
    "https://oauth.yandex.ru/authorize?response_type=token&client_id=e08c5606a4764d09b0bff31f36281c9a"
   ]
  },
  {
   "cell_type": "code",
   "execution_count": 5,
   "metadata": {},
   "outputs": [],
   "source": [
    "from id_data import yandex"
   ]
  },
  {
   "cell_type": "code",
   "execution_count": 6,
   "metadata": {},
   "outputs": [],
   "source": [
    "ACCESS_TOKEN = yandex['debugging_token']\n",
    "METRIC_IDS = '24251461'"
   ]
  },
  {
   "cell_type": "code",
   "execution_count": 7,
   "metadata": {
    "tags": []
   },
   "outputs": [],
   "source": [
    "api = YandexMetrikaStats(\n",
    "    authorization='OAuth a953489a3ad04025b24939841dfab1a2',\n",
    "    access_token=ACCESS_TOKEN,\n",
    "#     receive_all_data=True\n",
    ")"
   ]
  },
  {
   "cell_type": "markdown",
   "metadata": {},
   "source": [
    "Количество уникальных пользователей и визитов по дням за последние 30 дней"
   ]
  },
  {
   "cell_type": "code",
   "execution_count": 8,
   "metadata": {},
   "outputs": [],
   "source": [
    "params = {\n",
    "    'ids': METRIC_IDS, # наш счетчик\n",
    "    'date1': '30daysAgo',\n",
    "    'date2': 'yesterday',\n",
    "    'sort': 'ym:s:date',\n",
    "    'metrics': 'ym:s:users, ym:s:visits', # значения, которые получим\n",
    "    'dimensions': 'ym:s:date', # группировка\n",
    "    'accuracy': 'full',\n",
    "    'limit': 1000 # количество элементов на странице\n",
    "}"
   ]
  },
  {
   "cell_type": "code",
   "execution_count": 9,
   "metadata": {},
   "outputs": [
    {
     "name": "stderr",
     "output_type": "stream",
     "text": [
      "INFO:root:Наличие семплирования: False\n"
     ]
    },
    {
     "data": {
      "text/plain": [
       "<TapiClient object\n",
       "[   {   'contains_sensitive_data': False,\n",
       "        'data': [   {   'dimensions': [{'name': '2023-03-31'}],\n",
       "                        'metrics': [97.0, 104.0]},\n",
       "                    {   'dimensions': [{'name': '2023-04-01'}],\n",
       "                        'metrics': [46.0, 49.0]},\n",
       "                    {   'dimensions': [{'name': '2023-04-02'}],\n",
       "                        'metrics': [34.0, 42.0]},\n",
       "                    {   'dimensions': [{'name': '2023-04-03'}],\n",
       "                        'metrics': [100.0, 107.0]},\n",
       "                    {   'dimensions': [{'name': '2023-04-04'}],\n",
       "                        'metrics': [126.0, 135.0]},\n",
       "                    {   'dimensions': [{'name': '2023-04-05'}],\n",
       "                        'metrics': [120.0, 133.0]},\n",
       "                    {   'dimensions': [{'name': '2023-04-06'}],\n",
       "                        'metrics': [129.0, 143.0]},\n",
       "                    {   'dimensions': [{'name': '2023-04-07'}],\n",
       "                        'metrics': [108.0, 115.0]},\n",
       "                    {   'dimensions': [{'name': '2023-04-08'}],\n",
       "                        'metrics': [47.0, 48.0]},\n",
       "                    {   'dimensions': [{'name': '2023-04-09'}],\n",
       "                        'metrics': [37.0, 39.0]},\n",
       "                    {   'dimensions': [{'name': '2023-04-10'}],\n",
       "                        'metrics': [90.0, 100.0]},\n",
       "                    {   'dimensions': [{'name': '2023-04-11'}],\n",
       "                        'metrics': [121.0, 142.0]},\n",
       "                    {   'dimensions': [{'name': '2023-04-12'}],\n",
       "                        'metrics': [111.0, 113.0]},\n",
       "                    {   'dimensions': [{'name': '2023-04-13'}],\n",
       "                        'metrics': [105.0, 117.0]},\n",
       "                    {   'dimensions': [{'name': '2023-04-14'}],\n",
       "                        'metrics': [94.0, 96.0]},\n",
       "                    {   'dimensions': [{'name': '2023-04-15'}],\n",
       "                        'metrics': [47.0, 54.0]},\n",
       "                    {   'dimensions': [{'name': '2023-04-16'}],\n",
       "                        'metrics': [56.0, 60.0]},\n",
       "                    {   'dimensions': [{'name': '2023-04-17'}],\n",
       "                        'metrics': [112.0, 122.0]},\n",
       "                    {   'dimensions': [{'name': '2023-04-18'}],\n",
       "                        'metrics': [99.0, 116.0]},\n",
       "                    {   'dimensions': [{'name': '2023-04-19'}],\n",
       "                        'metrics': [113.0, 124.0]},\n",
       "                    {   'dimensions': [{'name': '2023-04-20'}],\n",
       "                        'metrics': [113.0, 128.0]},\n",
       "                    {   'dimensions': [{'name': '2023-04-21'}],\n",
       "                        'metrics': [96.0, 104.0]},\n",
       "                    {   'dimensions': [{'name': '2023-04-22'}],\n",
       "                        'metrics': [47.0, 50.0]},\n",
       "                    {   'dimensions': [{'name': '2023-04-23'}],\n",
       "                        'metrics': [39.0, 40.0]},\n",
       "                    {   'dimensions': [{'name': '2023-04-24'}],\n",
       "                        'metrics': [108.0, 119.0]},\n",
       "                    {   'dimensions': [{'name': '2023-04-25'}],\n",
       "                        'metrics': [95.0, 110.0]},\n",
       "                    {   'dimensions': [{'name': '2023-04-26'}],\n",
       "                        'metrics': [113.0, 118.0]},\n",
       "                    {   'dimensions': [{'name': '2023-04-27'}],\n",
       "                        'metrics': [103.0, 110.0]},\n",
       "                    {   'dimensions': [{'name': '2023-04-28'}],\n",
       "                        'metrics': [99.0, 106.0]},\n",
       "                    {   'dimensions': [{'name': '2023-04-29'}],\n",
       "                        'metrics': [36.0, 39.0]}],\n",
       "        'data_lag': 0,\n",
       "        'max': [129.0, 143.0],\n",
       "        'min': [34.0, 39.0],\n",
       "        'query': {   'adfox_event_id': '0',\n",
       "                     'attr_name': '',\n",
       "                     'attribution': 'LastSign',\n",
       "                     'auto_group_size': '1',\n",
       "                     'currency': 'RUB',\n",
       "                     'date1': '2023-03-31',\n",
       "                     'date2': '2023-04-29',\n",
       "                     'dimensions': ['ym:s:date'],\n",
       "                     'group': 'Week',\n",
       "                     'ids': [24251461],\n",
       "                     'limit': 1000,\n",
       "                     'metrics': ['ym:s:users', 'ym:s:visits'],\n",
       "                     'offline_window': '21',\n",
       "                     'offset': 1,\n",
       "                     'quantile': '50',\n",
       "                     'sort': ['ym:s:date']},\n",
       "        'sample_share': 1.0,\n",
       "        'sample_size': 2907,\n",
       "        'sample_space': 2907,\n",
       "        'sampled': False,\n",
       "        'total_rows': 30,\n",
       "        'total_rows_rounded': False,\n",
       "        'totals': [2369.0, 2883.0]}]>"
      ]
     },
     "execution_count": 9,
     "metadata": {},
     "output_type": "execute_result"
    }
   ],
   "source": [
    "raw_result = api.stats().get(params=params)\n",
    "raw_result"
   ]
  },
  {
   "cell_type": "code",
   "execution_count": 13,
   "metadata": {},
   "outputs": [],
   "source": [
    "result = raw_result().data[0]['data']"
   ]
  },
  {
   "cell_type": "code",
   "execution_count": 15,
   "metadata": {},
   "outputs": [],
   "source": [
    "dict_data = {}\n",
    "\n",
    "for i in range(len(result)):\n",
    "    dict_data[i] = {\n",
    "        'date': result[i]['dimensions'][0]['name'],\n",
    "        'users': result[i]['metrics'][0],\n",
    "        'visits': result[i]['metrics'][1]\n",
    "    }"
   ]
  },
  {
   "cell_type": "code",
   "execution_count": 20,
   "metadata": {},
   "outputs": [],
   "source": [
    "attendance = pd.DataFrame(dict_data).T"
   ]
  },
  {
   "cell_type": "code",
   "execution_count": 21,
   "metadata": {},
   "outputs": [
    {
     "data": {
      "text/html": [
       "<div>\n",
       "<style scoped>\n",
       "    .dataframe tbody tr th:only-of-type {\n",
       "        vertical-align: middle;\n",
       "    }\n",
       "\n",
       "    .dataframe tbody tr th {\n",
       "        vertical-align: top;\n",
       "    }\n",
       "\n",
       "    .dataframe thead th {\n",
       "        text-align: right;\n",
       "    }\n",
       "</style>\n",
       "<table border=\"1\" class=\"dataframe\">\n",
       "  <thead>\n",
       "    <tr style=\"text-align: right;\">\n",
       "      <th></th>\n",
       "      <th>date</th>\n",
       "      <th>users</th>\n",
       "      <th>visits</th>\n",
       "    </tr>\n",
       "  </thead>\n",
       "  <tbody>\n",
       "    <tr>\n",
       "      <th>0</th>\n",
       "      <td>2023-03-31</td>\n",
       "      <td>97.0</td>\n",
       "      <td>104.0</td>\n",
       "    </tr>\n",
       "    <tr>\n",
       "      <th>1</th>\n",
       "      <td>2023-04-01</td>\n",
       "      <td>46.0</td>\n",
       "      <td>49.0</td>\n",
       "    </tr>\n",
       "    <tr>\n",
       "      <th>2</th>\n",
       "      <td>2023-04-02</td>\n",
       "      <td>34.0</td>\n",
       "      <td>42.0</td>\n",
       "    </tr>\n",
       "    <tr>\n",
       "      <th>3</th>\n",
       "      <td>2023-04-03</td>\n",
       "      <td>100.0</td>\n",
       "      <td>107.0</td>\n",
       "    </tr>\n",
       "    <tr>\n",
       "      <th>4</th>\n",
       "      <td>2023-04-04</td>\n",
       "      <td>126.0</td>\n",
       "      <td>135.0</td>\n",
       "    </tr>\n",
       "    <tr>\n",
       "      <th>5</th>\n",
       "      <td>2023-04-05</td>\n",
       "      <td>120.0</td>\n",
       "      <td>133.0</td>\n",
       "    </tr>\n",
       "    <tr>\n",
       "      <th>6</th>\n",
       "      <td>2023-04-06</td>\n",
       "      <td>129.0</td>\n",
       "      <td>143.0</td>\n",
       "    </tr>\n",
       "    <tr>\n",
       "      <th>7</th>\n",
       "      <td>2023-04-07</td>\n",
       "      <td>108.0</td>\n",
       "      <td>115.0</td>\n",
       "    </tr>\n",
       "    <tr>\n",
       "      <th>8</th>\n",
       "      <td>2023-04-08</td>\n",
       "      <td>47.0</td>\n",
       "      <td>48.0</td>\n",
       "    </tr>\n",
       "    <tr>\n",
       "      <th>9</th>\n",
       "      <td>2023-04-09</td>\n",
       "      <td>37.0</td>\n",
       "      <td>39.0</td>\n",
       "    </tr>\n",
       "    <tr>\n",
       "      <th>10</th>\n",
       "      <td>2023-04-10</td>\n",
       "      <td>90.0</td>\n",
       "      <td>100.0</td>\n",
       "    </tr>\n",
       "    <tr>\n",
       "      <th>11</th>\n",
       "      <td>2023-04-11</td>\n",
       "      <td>121.0</td>\n",
       "      <td>142.0</td>\n",
       "    </tr>\n",
       "    <tr>\n",
       "      <th>12</th>\n",
       "      <td>2023-04-12</td>\n",
       "      <td>111.0</td>\n",
       "      <td>113.0</td>\n",
       "    </tr>\n",
       "    <tr>\n",
       "      <th>13</th>\n",
       "      <td>2023-04-13</td>\n",
       "      <td>105.0</td>\n",
       "      <td>117.0</td>\n",
       "    </tr>\n",
       "    <tr>\n",
       "      <th>14</th>\n",
       "      <td>2023-04-14</td>\n",
       "      <td>94.0</td>\n",
       "      <td>96.0</td>\n",
       "    </tr>\n",
       "    <tr>\n",
       "      <th>15</th>\n",
       "      <td>2023-04-15</td>\n",
       "      <td>47.0</td>\n",
       "      <td>54.0</td>\n",
       "    </tr>\n",
       "    <tr>\n",
       "      <th>16</th>\n",
       "      <td>2023-04-16</td>\n",
       "      <td>56.0</td>\n",
       "      <td>60.0</td>\n",
       "    </tr>\n",
       "    <tr>\n",
       "      <th>17</th>\n",
       "      <td>2023-04-17</td>\n",
       "      <td>112.0</td>\n",
       "      <td>122.0</td>\n",
       "    </tr>\n",
       "    <tr>\n",
       "      <th>18</th>\n",
       "      <td>2023-04-18</td>\n",
       "      <td>99.0</td>\n",
       "      <td>116.0</td>\n",
       "    </tr>\n",
       "    <tr>\n",
       "      <th>19</th>\n",
       "      <td>2023-04-19</td>\n",
       "      <td>113.0</td>\n",
       "      <td>124.0</td>\n",
       "    </tr>\n",
       "    <tr>\n",
       "      <th>20</th>\n",
       "      <td>2023-04-20</td>\n",
       "      <td>113.0</td>\n",
       "      <td>128.0</td>\n",
       "    </tr>\n",
       "    <tr>\n",
       "      <th>21</th>\n",
       "      <td>2023-04-21</td>\n",
       "      <td>96.0</td>\n",
       "      <td>104.0</td>\n",
       "    </tr>\n",
       "    <tr>\n",
       "      <th>22</th>\n",
       "      <td>2023-04-22</td>\n",
       "      <td>47.0</td>\n",
       "      <td>50.0</td>\n",
       "    </tr>\n",
       "    <tr>\n",
       "      <th>23</th>\n",
       "      <td>2023-04-23</td>\n",
       "      <td>39.0</td>\n",
       "      <td>40.0</td>\n",
       "    </tr>\n",
       "    <tr>\n",
       "      <th>24</th>\n",
       "      <td>2023-04-24</td>\n",
       "      <td>108.0</td>\n",
       "      <td>119.0</td>\n",
       "    </tr>\n",
       "    <tr>\n",
       "      <th>25</th>\n",
       "      <td>2023-04-25</td>\n",
       "      <td>95.0</td>\n",
       "      <td>110.0</td>\n",
       "    </tr>\n",
       "    <tr>\n",
       "      <th>26</th>\n",
       "      <td>2023-04-26</td>\n",
       "      <td>113.0</td>\n",
       "      <td>118.0</td>\n",
       "    </tr>\n",
       "    <tr>\n",
       "      <th>27</th>\n",
       "      <td>2023-04-27</td>\n",
       "      <td>103.0</td>\n",
       "      <td>110.0</td>\n",
       "    </tr>\n",
       "    <tr>\n",
       "      <th>28</th>\n",
       "      <td>2023-04-28</td>\n",
       "      <td>99.0</td>\n",
       "      <td>106.0</td>\n",
       "    </tr>\n",
       "    <tr>\n",
       "      <th>29</th>\n",
       "      <td>2023-04-29</td>\n",
       "      <td>36.0</td>\n",
       "      <td>39.0</td>\n",
       "    </tr>\n",
       "  </tbody>\n",
       "</table>\n",
       "</div>"
      ],
      "text/plain": [
       "          date  users visits\n",
       "0   2023-03-31   97.0  104.0\n",
       "1   2023-04-01   46.0   49.0\n",
       "2   2023-04-02   34.0   42.0\n",
       "3   2023-04-03  100.0  107.0\n",
       "4   2023-04-04  126.0  135.0\n",
       "5   2023-04-05  120.0  133.0\n",
       "6   2023-04-06  129.0  143.0\n",
       "7   2023-04-07  108.0  115.0\n",
       "8   2023-04-08   47.0   48.0\n",
       "9   2023-04-09   37.0   39.0\n",
       "10  2023-04-10   90.0  100.0\n",
       "11  2023-04-11  121.0  142.0\n",
       "12  2023-04-12  111.0  113.0\n",
       "13  2023-04-13  105.0  117.0\n",
       "14  2023-04-14   94.0   96.0\n",
       "15  2023-04-15   47.0   54.0\n",
       "16  2023-04-16   56.0   60.0\n",
       "17  2023-04-17  112.0  122.0\n",
       "18  2023-04-18   99.0  116.0\n",
       "19  2023-04-19  113.0  124.0\n",
       "20  2023-04-20  113.0  128.0\n",
       "21  2023-04-21   96.0  104.0\n",
       "22  2023-04-22   47.0   50.0\n",
       "23  2023-04-23   39.0   40.0\n",
       "24  2023-04-24  108.0  119.0\n",
       "25  2023-04-25   95.0  110.0\n",
       "26  2023-04-26  113.0  118.0\n",
       "27  2023-04-27  103.0  110.0\n",
       "28  2023-04-28   99.0  106.0\n",
       "29  2023-04-29   36.0   39.0"
      ]
     },
     "execution_count": 21,
     "metadata": {},
     "output_type": "execute_result"
    }
   ],
   "source": [
    "attendance"
   ]
  },
  {
   "cell_type": "code",
   "execution_count": 30,
   "metadata": {},
   "outputs": [
    {
     "data": {
      "image/png": "[encoded data removed]",
      "text/plain": [
       "<Figure size 640x480 with 1 Axes>"
      ]
     },
     "metadata": {},
     "output_type": "display_data"
    }
   ],
   "source": [
    "sns.barplot(data=attendance, x='date', y='visits')\n",
    "plt.xticks(rotation=90);"
   ]
  },
  {
   "cell_type": "code",
   "execution_count": 28,
   "metadata": {},
   "outputs": [
    {
     "data": {
      "image/png": "[encoded data removed]",
      "text/plain": [
       "<Figure size 640x480 with 1 Axes>"
      ]
     },
     "metadata": {},
     "output_type": "display_data"
    }
   ],
   "source": [
    "attendance.plot.bar(x='date');"
   ]
  }
 ],
 "metadata": {
  "kernelspec": {
   "display_name": "Python 3 (ipykernel)",
   "language": "python",
   "name": "python3"
  },
  "language_info": {
   "codemirror_mode": {
    "name": "ipython",
    "version": 3
   },
   "file_extension": ".py",
   "mimetype": "text/x-python",
   "name": "python",
   "nbconvert_exporter": "python",
   "pygments_lexer": "ipython3",
   "version": "3.7.15"
  }
 },
 "nbformat": 4,
 "nbformat_minor": 4
}
