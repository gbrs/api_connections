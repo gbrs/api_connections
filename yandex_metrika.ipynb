{
 "cells": [
  {
   "cell_type": "code",
   "execution_count": 1,
   "metadata": {},
   "outputs": [],
   "source": [
    "import numpy as np\n",
    "import pandas as pd\n",
    "import matplotlib.pyplot as plt\n",
    "import seaborn as sns\n",
    "import requests\n",
    "import json\n",
    "import time"
   ]
  },
  {
   "cell_type": "code",
   "execution_count": 2,
   "metadata": {},
   "outputs": [],
   "source": [
    "sns.set()\n",
    "pd.set_option('display.max_columns', None)"
   ]
  },
  {
   "cell_type": "code",
   "execution_count": 8,
   "metadata": {},
   "outputs": [],
   "source": [
    "# !pip install tapi-yandex-metrika"
   ]
  },
  {
   "cell_type": "code",
   "execution_count": null,
   "metadata": {},
   "outputs": [],
   "source": [
    "# !pip install --upgrade tapi-yandex-metrika==2020.10.20"
   ]
  },
  {
   "cell_type": "code",
   "execution_count": 10,
   "metadata": {},
   "outputs": [],
   "source": [
    "from tapi_yandex_metrika import YandexMetrikaStats"
   ]
  },
  {
   "cell_type": "code",
   "execution_count": null,
   "metadata": {},
   "outputs": [],
   "source": []
  },
  {
   "cell_type": "markdown",
   "metadata": {},
   "source": [
    "[Создание приложения](https://oauth.yandex.ru/client/new/)"
   ]
  },
  {
   "cell_type": "markdown",
   "metadata": {},
   "source": [
    "Отладочный токен:\n",
    "https://oauth.yandex.ru/authorize?response_type=token&client_id=e08c5606a4764d09b0bff31f36281c9a"
   ]
  },
  {
   "cell_type": "code",
   "execution_count": 66,
   "metadata": {},
   "outputs": [],
   "source": [
    "from id_data import yandex"
   ]
  },
  {
   "cell_type": "code",
   "execution_count": 68,
   "metadata": {},
   "outputs": [],
   "source": [
    "ACCESS_TOKEN = yandex['ACCESS_TOKEN']\n",
    "METRIC_IDS = yandex['METRIC_IDS']"
   ]
  },
  {
   "cell_type": "code",
   "execution_count": 70,
   "metadata": {
    "tags": []
   },
   "outputs": [],
   "source": [
    "api = YandexMetrikaStats(\n",
    "    access_token=ACCESS_TOKEN,\n",
    ")"
   ]
  },
  {
   "cell_type": "markdown",
   "metadata": {},
   "source": [
    "Количество уникальных пользователей и визитов по дням за последние 30 дней"
   ]
  },
  {
   "cell_type": "code",
   "execution_count": 72,
   "metadata": {},
   "outputs": [],
   "source": [
    "params = {\n",
    "    'ids': METRIC_IDS, # наш счетчик\n",
    "    'date1': '30daysAgo',\n",
    "    'date2': 'yesterday',\n",
    "    'sort': 'ym:s:date',\n",
    "    'metrics': 'ym:s:users, ym:s:visits', # значения, которые получим\n",
    "    'dimensions': 'ym:s:date', # группировка\n",
    "    'accuracy': 'full',\n",
    "    'limit': 1000 # количество элементов на странице\n",
    "}"
   ]
  },
  {
   "cell_type": "code",
   "execution_count": 74,
   "metadata": {},
   "outputs": [
    {
     "data": {
      "text/plain": [
       "<TapiClient object\n",
       "{   'contains_sensitive_data': False,\n",
       "    'data': [   {   'dimensions': [{'name': '2025-02-26'}],\n",
       "                    'metrics': [119.0, 133.0]},\n",
       "                {   'dimensions': [{'name': '2025-02-27'}],\n",
       "                    'metrics': [119.0, 143.0]},\n",
       "                {   'dimensions': [{'name': '2025-02-28'}],\n",
       "                    'metrics': [226.0, 237.0]},\n",
       "                {   'dimensions': [{'name': '2025-03-01'}],\n",
       "                    'metrics': [45.0, 50.0]},\n",
       "                {   'dimensions': [{'name': '2025-03-02'}],\n",
       "                    'metrics': [37.0, 38.0]},\n",
       "                {   'dimensions': [{'name': '2025-03-03'}],\n",
       "                    'metrics': [91.0, 94.0]},\n",
       "                {   'dimensions': [{'name': '2025-03-04'}],\n",
       "                    'metrics': [97.0, 108.0]},\n",
       "                {   'dimensions': [{'name': '2025-03-05'}],\n",
       "                    'metrics': [93.0, 100.0]},\n",
       "                {   'dimensions': [{'name': '2025-03-06'}],\n",
       "                    'metrics': [104.0, 111.0]},\n",
       "                {   'dimensions': [{'name': '2025-03-07'}],\n",
       "                    'metrics': [66.0, 71.0]},\n",
       "                {   'dimensions': [{'name': '2025-03-08'}],\n",
       "                    'metrics': [16.0, 16.0]},\n",
       "                {   'dimensions': [{'name': '2025-03-09'}],\n",
       "                    'metrics': [26.0, 26.0]},\n",
       "                {   'dimensions': [{'name': '2025-03-10'}],\n",
       "                    'metrics': [90.0, 93.0]},\n",
       "                {   'dimensions': [{'name': '2025-03-11'}],\n",
       "                    'metrics': [91.0, 102.0]},\n",
       "                {   'dimensions': [{'name': '2025-03-12'}],\n",
       "                    'metrics': [92.0, 105.0]},\n",
       "                {   'dimensions': [{'name': '2025-03-13'}],\n",
       "                    'metrics': [106.0, 114.0]},\n",
       "                {   'dimensions': [{'name': '2025-03-14'}],\n",
       "                    'metrics': [103.0, 114.0]},\n",
       "                {   'dimensions': [{'name': '2025-03-15'}],\n",
       "                    'metrics': [34.0, 36.0]},\n",
       "                {   'dimensions': [{'name': '2025-03-16'}],\n",
       "                    'metrics': [29.0, 30.0]},\n",
       "                {   'dimensions': [{'name': '2025-03-17'}],\n",
       "                    'metrics': [102.0, 112.0]},\n",
       "                {   'dimensions': [{'name': '2025-03-18'}],\n",
       "                    'metrics': [107.0, 114.0]},\n",
       "                {   'dimensions': [{'name': '2025-03-19'}],\n",
       "                    'metrics': [106.0, 111.0]},\n",
       "                {   'dimensions': [{'name': '2025-03-20'}],\n",
       "                    'metrics': [108.0, 115.0]},\n",
       "                {   'dimensions': [{'name': '2025-03-21'}],\n",
       "                    'metrics': [119.0, 133.0]},\n",
       "                {   'dimensions': [{'name': '2025-03-22'}],\n",
       "                    'metrics': [37.0, 39.0]},\n",
       "                {   'dimensions': [{'name': '2025-03-23'}],\n",
       "                    'metrics': [35.0, 40.0]},\n",
       "                {   'dimensions': [{'name': '2025-03-24'}],\n",
       "                    'metrics': [96.0, 102.0]},\n",
       "                {   'dimensions': [{'name': '2025-03-25'}],\n",
       "                    'metrics': [105.0, 112.0]},\n",
       "                {   'dimensions': [{'name': '2025-03-26'}],\n",
       "                    'metrics': [105.0, 113.0]},\n",
       "                {   'dimensions': [{'name': '2025-03-27'}],\n",
       "                    'metrics': [115.0, 126.0]}],\n",
       "    'data_lag': 0,\n",
       "    'max': [226.0, 237.0],\n",
       "    'min': [16.0, 16.0],\n",
       "    'query': {   'adfox_event_id': '0',\n",
       "                 'attr_name': '',\n",
       "                 'attribution': 'LastSign',\n",
       "                 'auto_group_size': '1',\n",
       "                 'benchmarks_attribution': 'Automatic',\n",
       "                 'benchmarks_quantile': '50',\n",
       "                 'benchmarks_version': '1742169600000',\n",
       "                 'currency': 'RUB',\n",
       "                 'date1': '2025-02-26',\n",
       "                 'date2': '2025-03-27',\n",
       "                 'dimensions': ['ym:s:date'],\n",
       "                 'funnel_pattern': '',\n",
       "                 'funnel_window': '',\n",
       "                 'group': 'Week',\n",
       "                 'ids': [24251461],\n",
       "                 'limit': 1000,\n",
       "                 'metrics': ['ym:s:users', 'ym:s:visits'],\n",
       "                 'offline_window': '21',\n",
       "                 'offset': 1,\n",
       "                 'quantile': '50',\n",
       "                 'sort': ['ym:s:date']},\n",
       "    'sample_share': 1.0,\n",
       "    'sample_size': 2839,\n",
       "    'sample_space': 2839,\n",
       "    'sampled': False,\n",
       "    'total_rows': 30,\n",
       "    'total_rows_rounded': False,\n",
       "    'totals': [2339.0, 2838.0]}>"
      ]
     },
     "execution_count": 74,
     "metadata": {},
     "output_type": "execute_result"
    }
   ],
   "source": [
    "raw_result = api.stats().get(params=params)\n",
    "raw_result"
   ]
  },
  {
   "cell_type": "code",
   "execution_count": 76,
   "metadata": {},
   "outputs": [],
   "source": [
    "result = raw_result['data']"
   ]
  },
  {
   "cell_type": "code",
   "execution_count": 78,
   "metadata": {},
   "outputs": [],
   "source": [
    "dict_data = {}\n",
    "\n",
    "for i in range(len(result)):\n",
    "    dict_data[i] = {\n",
    "        'date': result[i]['dimensions'][0]['name'],\n",
    "        'users': result[i]['metrics'][0],\n",
    "        'visits': result[i]['metrics'][1]\n",
    "    }"
   ]
  },
  {
   "cell_type": "code",
   "execution_count": 80,
   "metadata": {},
   "outputs": [],
   "source": [
    "attendance = pd.DataFrame(dict_data).T"
   ]
  },
  {
   "cell_type": "code",
   "execution_count": 82,
   "metadata": {},
   "outputs": [
    {
     "data": {
      "text/html": [
       "<div>\n",
       "<style scoped>\n",
       "    .dataframe tbody tr th:only-of-type {\n",
       "        vertical-align: middle;\n",
       "    }\n",
       "\n",
       "    .dataframe tbody tr th {\n",
       "        vertical-align: top;\n",
       "    }\n",
       "\n",
       "    .dataframe thead th {\n",
       "        text-align: right;\n",
       "    }\n",
       "</style>\n",
       "<table border=\"1\" class=\"dataframe\">\n",
       "  <thead>\n",
       "    <tr style=\"text-align: right;\">\n",
       "      <th></th>\n",
       "      <th>date</th>\n",
       "      <th>users</th>\n",
       "      <th>visits</th>\n",
       "    </tr>\n",
       "  </thead>\n",
       "  <tbody>\n",
       "    <tr>\n",
       "      <th>0</th>\n",
       "      <td>2025-02-26</td>\n",
       "      <td>119.0</td>\n",
       "      <td>133.0</td>\n",
       "    </tr>\n",
       "    <tr>\n",
       "      <th>1</th>\n",
       "      <td>2025-02-27</td>\n",
       "      <td>119.0</td>\n",
       "      <td>143.0</td>\n",
       "    </tr>\n",
       "    <tr>\n",
       "      <th>2</th>\n",
       "      <td>2025-02-28</td>\n",
       "      <td>226.0</td>\n",
       "      <td>237.0</td>\n",
       "    </tr>\n",
       "    <tr>\n",
       "      <th>3</th>\n",
       "      <td>2025-03-01</td>\n",
       "      <td>45.0</td>\n",
       "      <td>50.0</td>\n",
       "    </tr>\n",
       "    <tr>\n",
       "      <th>4</th>\n",
       "      <td>2025-03-02</td>\n",
       "      <td>37.0</td>\n",
       "      <td>38.0</td>\n",
       "    </tr>\n",
       "    <tr>\n",
       "      <th>5</th>\n",
       "      <td>2025-03-03</td>\n",
       "      <td>91.0</td>\n",
       "      <td>94.0</td>\n",
       "    </tr>\n",
       "    <tr>\n",
       "      <th>6</th>\n",
       "      <td>2025-03-04</td>\n",
       "      <td>97.0</td>\n",
       "      <td>108.0</td>\n",
       "    </tr>\n",
       "    <tr>\n",
       "      <th>7</th>\n",
       "      <td>2025-03-05</td>\n",
       "      <td>93.0</td>\n",
       "      <td>100.0</td>\n",
       "    </tr>\n",
       "    <tr>\n",
       "      <th>8</th>\n",
       "      <td>2025-03-06</td>\n",
       "      <td>104.0</td>\n",
       "      <td>111.0</td>\n",
       "    </tr>\n",
       "    <tr>\n",
       "      <th>9</th>\n",
       "      <td>2025-03-07</td>\n",
       "      <td>66.0</td>\n",
       "      <td>71.0</td>\n",
       "    </tr>\n",
       "    <tr>\n",
       "      <th>10</th>\n",
       "      <td>2025-03-08</td>\n",
       "      <td>16.0</td>\n",
       "      <td>16.0</td>\n",
       "    </tr>\n",
       "    <tr>\n",
       "      <th>11</th>\n",
       "      <td>2025-03-09</td>\n",
       "      <td>26.0</td>\n",
       "      <td>26.0</td>\n",
       "    </tr>\n",
       "    <tr>\n",
       "      <th>12</th>\n",
       "      <td>2025-03-10</td>\n",
       "      <td>90.0</td>\n",
       "      <td>93.0</td>\n",
       "    </tr>\n",
       "    <tr>\n",
       "      <th>13</th>\n",
       "      <td>2025-03-11</td>\n",
       "      <td>91.0</td>\n",
       "      <td>102.0</td>\n",
       "    </tr>\n",
       "    <tr>\n",
       "      <th>14</th>\n",
       "      <td>2025-03-12</td>\n",
       "      <td>92.0</td>\n",
       "      <td>105.0</td>\n",
       "    </tr>\n",
       "    <tr>\n",
       "      <th>15</th>\n",
       "      <td>2025-03-13</td>\n",
       "      <td>106.0</td>\n",
       "      <td>114.0</td>\n",
       "    </tr>\n",
       "    <tr>\n",
       "      <th>16</th>\n",
       "      <td>2025-03-14</td>\n",
       "      <td>103.0</td>\n",
       "      <td>114.0</td>\n",
       "    </tr>\n",
       "    <tr>\n",
       "      <th>17</th>\n",
       "      <td>2025-03-15</td>\n",
       "      <td>34.0</td>\n",
       "      <td>36.0</td>\n",
       "    </tr>\n",
       "    <tr>\n",
       "      <th>18</th>\n",
       "      <td>2025-03-16</td>\n",
       "      <td>29.0</td>\n",
       "      <td>30.0</td>\n",
       "    </tr>\n",
       "    <tr>\n",
       "      <th>19</th>\n",
       "      <td>2025-03-17</td>\n",
       "      <td>102.0</td>\n",
       "      <td>112.0</td>\n",
       "    </tr>\n",
       "    <tr>\n",
       "      <th>20</th>\n",
       "      <td>2025-03-18</td>\n",
       "      <td>107.0</td>\n",
       "      <td>114.0</td>\n",
       "    </tr>\n",
       "    <tr>\n",
       "      <th>21</th>\n",
       "      <td>2025-03-19</td>\n",
       "      <td>106.0</td>\n",
       "      <td>111.0</td>\n",
       "    </tr>\n",
       "    <tr>\n",
       "      <th>22</th>\n",
       "      <td>2025-03-20</td>\n",
       "      <td>108.0</td>\n",
       "      <td>115.0</td>\n",
       "    </tr>\n",
       "    <tr>\n",
       "      <th>23</th>\n",
       "      <td>2025-03-21</td>\n",
       "      <td>119.0</td>\n",
       "      <td>133.0</td>\n",
       "    </tr>\n",
       "    <tr>\n",
       "      <th>24</th>\n",
       "      <td>2025-03-22</td>\n",
       "      <td>37.0</td>\n",
       "      <td>39.0</td>\n",
       "    </tr>\n",
       "    <tr>\n",
       "      <th>25</th>\n",
       "      <td>2025-03-23</td>\n",
       "      <td>35.0</td>\n",
       "      <td>40.0</td>\n",
       "    </tr>\n",
       "    <tr>\n",
       "      <th>26</th>\n",
       "      <td>2025-03-24</td>\n",
       "      <td>96.0</td>\n",
       "      <td>102.0</td>\n",
       "    </tr>\n",
       "    <tr>\n",
       "      <th>27</th>\n",
       "      <td>2025-03-25</td>\n",
       "      <td>105.0</td>\n",
       "      <td>112.0</td>\n",
       "    </tr>\n",
       "    <tr>\n",
       "      <th>28</th>\n",
       "      <td>2025-03-26</td>\n",
       "      <td>105.0</td>\n",
       "      <td>113.0</td>\n",
       "    </tr>\n",
       "    <tr>\n",
       "      <th>29</th>\n",
       "      <td>2025-03-27</td>\n",
       "      <td>115.0</td>\n",
       "      <td>126.0</td>\n",
       "    </tr>\n",
       "  </tbody>\n",
       "</table>\n",
       "</div>"
      ],
      "text/plain": [
       "          date  users visits\n",
       "0   2025-02-26  119.0  133.0\n",
       "1   2025-02-27  119.0  143.0\n",
       "2   2025-02-28  226.0  237.0\n",
       "3   2025-03-01   45.0   50.0\n",
       "4   2025-03-02   37.0   38.0\n",
       "5   2025-03-03   91.0   94.0\n",
       "6   2025-03-04   97.0  108.0\n",
       "7   2025-03-05   93.0  100.0\n",
       "8   2025-03-06  104.0  111.0\n",
       "9   2025-03-07   66.0   71.0\n",
       "10  2025-03-08   16.0   16.0\n",
       "11  2025-03-09   26.0   26.0\n",
       "12  2025-03-10   90.0   93.0\n",
       "13  2025-03-11   91.0  102.0\n",
       "14  2025-03-12   92.0  105.0\n",
       "15  2025-03-13  106.0  114.0\n",
       "16  2025-03-14  103.0  114.0\n",
       "17  2025-03-15   34.0   36.0\n",
       "18  2025-03-16   29.0   30.0\n",
       "19  2025-03-17  102.0  112.0\n",
       "20  2025-03-18  107.0  114.0\n",
       "21  2025-03-19  106.0  111.0\n",
       "22  2025-03-20  108.0  115.0\n",
       "23  2025-03-21  119.0  133.0\n",
       "24  2025-03-22   37.0   39.0\n",
       "25  2025-03-23   35.0   40.0\n",
       "26  2025-03-24   96.0  102.0\n",
       "27  2025-03-25  105.0  112.0\n",
       "28  2025-03-26  105.0  113.0\n",
       "29  2025-03-27  115.0  126.0"
      ]
     },
     "execution_count": 82,
     "metadata": {},
     "output_type": "execute_result"
    }
   ],
   "source": [
    "attendance"
   ]
  },
  {
   "cell_type": "code",
   "execution_count": 84,
   "metadata": {},
   "outputs": [
    {
     "data": {
      "image/png": "[encoded data removed]",
      "text/plain": [
       "<Figure size 640x480 with 1 Axes>"
      ]
     },
     "metadata": {},
     "output_type": "display_data"
    }
   ],
   "source": [
    "sns.barplot(data=attendance, x='date', y='visits')\n",
    "plt.xticks(rotation=90);"
   ]
  },
  {
   "cell_type": "code",
   "execution_count": 86,
   "metadata": {},
   "outputs": [
    {
     "data": {
      "image/png": "[encoded data removed]",
      "text/plain": [
       "<Figure size 640x480 with 1 Axes>"
      ]
     },
     "metadata": {},
     "output_type": "display_data"
    }
   ],
   "source": [
    "attendance.plot.bar(x='date');"
   ]
  },
  {
   "cell_type": "code",
   "execution_count": null,
   "metadata": {},
   "outputs": [],
   "source": []
  }
 ],
 "metadata": {
  "kernelspec": {
   "display_name": "Python [conda env:base] *",
   "language": "python",
   "name": "conda-base-py"
  },
  "language_info": {
   "codemirror_mode": {
    "name": "ipython",
    "version": 3
   },
   "file_extension": ".py",
   "mimetype": "text/x-python",
   "name": "python",
   "nbconvert_exporter": "python",
   "pygments_lexer": "ipython3",
   "version": "3.12.7"
  }
 },
 "nbformat": 4,
 "nbformat_minor": 4
}
